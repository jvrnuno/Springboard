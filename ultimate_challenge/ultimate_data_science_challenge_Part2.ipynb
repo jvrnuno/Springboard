{
 "cells": [
  {
   "cell_type": "markdown",
   "metadata": {},
   "source": [
    "<font color='darkblue'>\n",
    "\n",
    "# Data Analysis Interview Challenge (II)\n",
    "\n",
    "## Part 2 ‑ Experiment and metrics design\n",
    "\n",
    "The neighboring cities of Gotham and Metropolis have complementary circadian rhythms: on weekdays, Ultimate Gotham is most active at night, and Ultimate Metropolis is most active during the day. On weekends, there is reasonable activity in both cities. However, a toll bridge, with a two way toll, between the two cities causes driver partners to tend to be exclusive to each city. The Ultimate managers of city operations for the two cities have proposed an experiment to encourage driver partners to be available in both cities, by reimbursing all toll costs.\n",
    "\n",
    "1. What would you choose as the key measure of success of this experiment in encouraging driver partners to serve both cities, and why would you choose this metric?\n",
    "    \n",
    "\n",
    "2. Describe a practical experiment you would design to compare the effectiveness of the proposed change in relation to the key measure of success. Please provide details on:\n",
    "    \n",
    "    a. how you will implement the experiment\n",
    "    \n",
    "    b. what statistical test(s) you will conduct to verify the significance of the observation\n",
    "    \n",
    "    c. how you would interpret the results and provide recommendations to the city operations team along with any caveats.\n",
    "    \n",
    "\n",
    "<font/>"
   ]
  },
  {
   "cell_type": "markdown",
   "metadata": {},
   "source": [
    "## 1. Question #1\n",
    "\n",
    "I would create a new feature called _intercities trip ratio (ITR)_ to measure the success of the experiement. The ITR would be the number of trips made in the neighboring city divided by the number of total trips made by a single driver. The advantage of using a ratio is that it is already adjusted by the confounding factor of the total number of trips.\n",
    "\n",
    "- _$N_n$ = Number of trip made by the driver in the neighboring city_\n",
    "- _$N_t$ = Number of total trips made by the driver_\n",
    "- _$ITR$ = Intercities trip ratio_\n",
    "\n",
    "### $ITR = \\frac{N_n}{N_t}$\n",
    "\n",
    "The range of values of the ITR distribution is [0,1] "
   ]
  },
  {
   "cell_type": "markdown",
   "metadata": {},
   "source": [
    "---\n",
    "## 2. Question #2\n",
    "\n",
    "I would conduct an A/B test to check whether the toll reinbursment incentive introduced change the behavior of the drivers. I will follow this steps:\n",
    "\n",
    "1. Randomly select a sample of drivers which represents the total population. Namely, the sample should have the same distribution in the driver's attribute than the total population of drivers. \n",
    "\n",
    "    We do not have to worry about selection bias because the drivers selected for the sample will not know that they are actually tracked. \n",
    "    \n",
    "\n",
    "2. Monitorize and record for a certain period of time (1-3 months) the trips made by the sample drivers and compute the metric $ITR_0$ for each one. \n",
    "\n",
    "\n",
    "3. Implement the toll reimbursment incentive and track the trips made by the sample drivers for the same period (1-3 months) after the implementation, and compute the metric $ITR_1$ for each one.\n",
    "\n",
    "\n",
    "4. Perform statistical testing on the following hypothesis:\n",
    "\n",
    "    _$H_0$ = The differences of the mean ITR before and after the implementation of the toll reinbursment incentive is due to chance._\n",
    "\n",
    "    _$H_1$ = The difference between the mean $ITR_0$ and the mean $ITR_1$ is due to the incentive implementation._\n",
    "\n",
    "    Since both samples comes from the same group at different times we will be comparing two dependent samples, I would perform a single-sided paired T-Test, using the mean ITR as test statistic. We can use the python stats function: `scipy.stats.ttest_rel()` to compute the p-value.\n",
    "    \n",
    "    Aternatively we can apply the following formula: \n",
    "    \n",
    "    ### $t = \\frac{\\bar{x}_D - \\mu_0}{\\frac{S_p}{\\sqrt{n}}}$\n",
    "\n",
    "      Where $\\bar{x}_D$ and $S_p$ are the average and standard deviation of the differences between all pairs. \n",
    "      We can infer the p-value from the t-test statistic.  \n",
    "\n",
    "\n",
    "5. Present results and conclusions\n",
    "    \n",
    "    If the p-value is equal or lower than 0.05 means that the difference between the mean $ITR_0$ and mean $ITR_1$ is statistically significant and we can reject null hypothesis. In that case, we can assume that the incentive is actually working and it is up to the city operations team to decide whether implement the incentive permanently of modify it. \n",
    " \n",
    "   __Caveats__\n",
    "   \n",
    "   The incentive could also create undesired effects and further tests should be performed to discard them, i.e. if one city has higher rides demand we may see a concentration of drivers in that area leaving the other city unserved. \n",
    "    \n",
    "    If p-value is lower than 0.05 we can assume with confidence that the null hypothesis is not valid, but that does not mean that our alternative hypothesis is true. We could run other tests to check whether there are other confounding factors which account for the increase in our ITR metric. "
   ]
  },
  {
   "cell_type": "code",
   "execution_count": null,
   "metadata": {},
   "outputs": [],
   "source": []
  }
 ],
 "metadata": {
  "kernelspec": {
   "display_name": "Python 3",
   "language": "python",
   "name": "python3"
  },
  "language_info": {
   "codemirror_mode": {
    "name": "ipython",
    "version": 3
   },
   "file_extension": ".py",
   "mimetype": "text/x-python",
   "name": "python",
   "nbconvert_exporter": "python",
   "pygments_lexer": "ipython3",
   "version": "3.7.7"
  }
 },
 "nbformat": 4,
 "nbformat_minor": 4
}
