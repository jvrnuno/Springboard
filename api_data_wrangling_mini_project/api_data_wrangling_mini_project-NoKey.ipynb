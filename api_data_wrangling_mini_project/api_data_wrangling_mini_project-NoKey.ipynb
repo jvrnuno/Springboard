{
 "cells": [
  {
   "cell_type": "markdown",
   "metadata": {},
   "source": [
    "This exercise will require you to pull some data from the Qunadl API. Qaundl is currently the most widely used aggregator of financial market data."
   ]
  },
  {
   "cell_type": "markdown",
   "metadata": {},
   "source": [
    "As a first step, you will need to register a free account on the http://www.quandl.com website."
   ]
  },
  {
   "cell_type": "markdown",
   "metadata": {},
   "source": [
    "After you register, you will be provided with a unique API key, that you should store:"
   ]
  },
  {
   "cell_type": "code",
   "execution_count": 1,
   "metadata": {},
   "outputs": [],
   "source": [
    "# Store the API key as a string - according to PEP8, constants are always named in all upper case\n",
    "API_KEY = 'XXXXXX'"
   ]
  },
  {
   "cell_type": "markdown",
   "metadata": {},
   "source": [
    "Qaundl has a large number of data sources, but, unfortunately, most of them require a Premium subscription. Still, there are also a good number of free datasets."
   ]
  },
  {
   "cell_type": "markdown",
   "metadata": {},
   "source": [
    "For this mini project, we will focus on equities data from the Frankfurt Stock Exhange (FSE), which is available for free. We'll try and analyze the stock prices of a company called Carl Zeiss Meditec, which manufactures tools for eye examinations, as well as medical lasers for laser eye surgery: https://www.zeiss.com/meditec/int/home.html. The company is listed under the stock ticker AFX_X."
   ]
  },
  {
   "cell_type": "markdown",
   "metadata": {},
   "source": [
    "You can find the detailed Quandl API instructions here: https://docs.quandl.com/docs/time-series"
   ]
  },
  {
   "cell_type": "markdown",
   "metadata": {},
   "source": [
    "While there is a dedicated Python package for connecting to the Quandl API, we would prefer that you use the *requests* package, which can be easily downloaded using *pip* or *conda*. You can find the documentation for the package here: http://docs.python-requests.org/en/master/ "
   ]
  },
  {
   "cell_type": "markdown",
   "metadata": {},
   "source": [
    "Finally, apart from the *requests* package, you are encouraged to not use any third party Python packages, such as *pandas*, and instead focus on what's available in the Python Standard Library (the *collections* module might come in handy: https://pymotw.com/3/collections/ ).\n",
    "Also, since you won't have access to DataFrames, you are encouraged to us Python's native data structures - preferably dictionaries, though some questions can also be answered using lists.\n",
    "You can read more on these data structures here: https://docs.python.org/3/tutorial/datastructures.html"
   ]
  },
  {
   "cell_type": "markdown",
   "metadata": {},
   "source": [
    "Keep in mind that the JSON responses you will be getting from the API map almost one-to-one to Python's dictionaries. Unfortunately, they can be very nested, so make sure you read up on indexing dictionaries in the documentation provided above."
   ]
  },
  {
   "cell_type": "code",
   "execution_count": 2,
   "metadata": {},
   "outputs": [],
   "source": [
    "# First, import the relevant modules\n",
    "import requests # importing requests module\n"
   ]
  },
  {
   "cell_type": "code",
   "execution_count": 3,
   "metadata": {},
   "outputs": [],
   "source": [
    "# Now, call the Quandl API and pull out a small sample of the data (only one day) to get a glimpse\n",
    "# into the JSON structure that will be returned\n",
    "\n",
    "url = 'https://www.quandl.com/api/v3/datasets/FSE/AFX_X/data.json' # storing api url into variable url\n",
    "\n",
    "params_sample = dict(api_key=API_KEY, start_date='2020-07-15', end_date='2020-07-16') # defining parameters of the request\n",
    "\n",
    "res_sample = requests.get(url, params_sample) # storing response into variable res_sample"
   ]
  },
  {
   "cell_type": "code",
   "execution_count": 4,
   "metadata": {},
   "outputs": [
    {
     "data": {
      "text/plain": [
       "dict"
      ]
     },
     "execution_count": 4,
     "metadata": {},
     "output_type": "execute_result"
    }
   ],
   "source": [
    "# Inspect the JSON structure of the object you created, and take note of how nested it is,\n",
    "# as well as the overall structure\n",
    "\n",
    "json_data_sample = res_sample.json() # storing json respons in a variable\n",
    "\n",
    "type(json_data_sample) # exploring data type"
   ]
  },
  {
   "cell_type": "code",
   "execution_count": 5,
   "metadata": {},
   "outputs": [
    {
     "name": "stdout",
     "output_type": "stream",
     "text": [
      "dataset_data\n",
      "{'limit': None, 'transform': None, 'column_index': None, 'column_names': ['Date', 'Open', 'High', 'Low', 'Close', 'Change', 'Traded Volume', 'Turnover', 'Last Price of the Day', 'Daily Traded Units', 'Daily Turnover'], 'start_date': '2020-07-15', 'end_date': '2020-07-16', 'frequency': 'daily', 'data': [['2020-07-16', 90.65, 90.65, 87.9, 88.95, None, 197755.0, 17652520.05, None, None, None], ['2020-07-15', 90.0, 91.7, 86.3, 91.7, None, 258220.0, 23077220.7, None, None, None]], 'collapse': None, 'order': None}\n"
     ]
    }
   ],
   "source": [
    "for key, value in json_data_sample.items(): # exploring key, values in the data\n",
    "    print(key)\n",
    "    print(value)"
   ]
  },
  {
   "cell_type": "code",
   "execution_count": 6,
   "metadata": {},
   "outputs": [
    {
     "name": "stdout",
     "output_type": "stream",
     "text": [
      "limit None\n",
      "transform None\n",
      "column_index None\n",
      "column_names ['Date', 'Open', 'High', 'Low', 'Close', 'Change', 'Traded Volume', 'Turnover', 'Last Price of the Day', 'Daily Traded Units', 'Daily Turnover']\n",
      "start_date 2020-07-15\n",
      "end_date 2020-07-16\n",
      "frequency daily\n",
      "data [['2020-07-16', 90.65, 90.65, 87.9, 88.95, None, 197755.0, 17652520.05, None, None, None], ['2020-07-15', 90.0, 91.7, 86.3, 91.7, None, 258220.0, 23077220.7, None, None, None]]\n",
      "collapse None\n",
      "order None\n"
     ]
    }
   ],
   "source": [
    "for key, value in json_data_sample['dataset_data'].items(): # further exploring key, values in the data\n",
    "    print(key, value)"
   ]
  },
  {
   "cell_type": "markdown",
   "metadata": {},
   "source": [
    "These are your tasks for this mini project:\n",
    "\n",
    "1. Collect data from the Franfurt Stock Exchange, for the ticker AFX_X, for the whole year 2017 (keep in mind that the date format is YYYY-MM-DD).\n",
    "2. Convert the returned JSON object into a Python dictionary.\n",
    "3. Calculate what the highest and lowest opening prices were for the stock in this period.\n",
    "4. What was the largest change in any one day (based on High and Low price)?\n",
    "5. What was the largest change between any two days (based on Closing Price)?\n",
    "6. What was the average daily trading volume during this year?\n",
    "7. (Optional) What was the median trading volume during this year. (Note: you may need to implement your own function for calculating the median.)"
   ]
  },
  {
   "cell_type": "code",
   "execution_count": 7,
   "metadata": {},
   "outputs": [],
   "source": [
    "# Task 1: Collecting the data\n",
    "\n",
    "params = dict(api_key=API_KEY, start_date='2017-01-01', end_date='2017-12-31', collapse='daily') # defining parameters of the request\n",
    "\n",
    "res = requests.get(url, params) # storing response into variable res"
   ]
  },
  {
   "cell_type": "code",
   "execution_count": 8,
   "metadata": {},
   "outputs": [],
   "source": [
    "# Task 2: Convert JSON into Python Dict\n",
    "\n",
    "json_data = res.json()"
   ]
  },
  {
   "cell_type": "code",
   "execution_count": 70,
   "metadata": {},
   "outputs": [
    {
     "name": "stdout",
     "output_type": "stream",
     "text": [
      "Maximum opening price was 53.11\n",
      "Minimum opening price was 34.0\n"
     ]
    }
   ],
   "source": [
    "# Task 3: Calculate what the highest and lowest opening prices were for the stock in this period.\n",
    "\n",
    "trad_data = json_data['dataset_data']['data'] # extracting the trading data\n",
    "\n",
    "open_price = [str(trad_data[i][1]) for i in range(len(trad_data))]\n",
    "open_price = [float(i) for i in open_price if i != 'None']\n",
    "\n",
    "max_open_price = max(open_price)\n",
    "min_open_price = min(open_price)\n",
    "\n",
    "print('Maximum opening price was '+str(max_open_price))\n",
    "print('Minimum opening price was '+str(min_open_price))"
   ]
  },
  {
   "cell_type": "code",
   "execution_count": 77,
   "metadata": {},
   "outputs": [
    {
     "name": "stdout",
     "output_type": "stream",
     "text": [
      "Maximum intraday price change was 2.81\n"
     ]
    }
   ],
   "source": [
    "# Task 4: What was the largest change in any one day (based on High and Low price)?\n",
    "\n",
    "intraday_change = [round(trad_data[i][2]-trad_data[i][3], 2) for i in range(len(trad_data))] # creating a list with the highest price minus the lowest price for all days and iterating through the numer of items in trading data list. \n",
    "\n",
    "max_idchg = max(intraday_change) # Getting the max intraday price change\n",
    "\n",
    "print('Maximum intraday price change was '+str(max_idchg))"
   ]
  },
  {
   "cell_type": "code",
   "execution_count": 76,
   "metadata": {},
   "outputs": [
    {
     "name": "stdout",
     "output_type": "stream",
     "text": [
      "Maximum day price change was 15.96\n"
     ]
    }
   ],
   "source": [
    "# Task 5: What was the largest change between any two days (based on Closing Price)?\n",
    "\n",
    "day_change = [round(abs(trad_data[i][4]-trad_data[i-1][4]), 2) for i in range(len(trad_data))] # creating a list with the closing price minus the closing price from previous day and iterating through the numer of items in trading data list.\n",
    "\n",
    "date_max_chg = max(day_change) # Getting the max day price change\n",
    "\n",
    "print('Maximum day price change was '+str(date_max_chg))"
   ]
  },
  {
   "cell_type": "code",
   "execution_count": 63,
   "metadata": {},
   "outputs": [
    {
     "name": "stdout",
     "output_type": "stream",
     "text": [
      "Average daily trading volume during 2017 was 89124.34 shares.\n"
     ]
    }
   ],
   "source": [
    "# Task 6: What was the average daily trading volume during this year?\n",
    "\n",
    "tr_volume = [trad_data[i][6] for i in range(len(trad_data))] # creating a list with daily volume over the year.\n",
    "\n",
    "average_vol = round(sum(tr_volume) / len(tr_volume), 2) # calculating average volume\n",
    "\n",
    "print('Average daily trading volume during 2017 was '+str(average_vol)+' shares.')"
   ]
  },
  {
   "cell_type": "code",
   "execution_count": 61,
   "metadata": {},
   "outputs": [
    {
     "name": "stdout",
     "output_type": "stream",
     "text": [
      "Median daily trading volume during 2017 was 76286.0 shares.\n"
     ]
    }
   ],
   "source": [
    "# Task 7: What was the median trading volume during this year.\n",
    "\n",
    "def median(list):\n",
    "    '''Calculate the median value of a list of numbers'''\n",
    "    list.sort()\n",
    "    if len(list) % 2 == 0:\n",
    "        num1 = list[len(list)/2]\n",
    "        num2 = list[len(list)/2 - 1]\n",
    "        median = list[(num1 + num2)/2]\n",
    "    else:\n",
    "        median = list[int(len(list)/2)]\n",
    "    return median\n",
    "\n",
    "median = median(tr_volume)\n",
    "\n",
    "print('Median daily trading volume during 2017 was '+str(median)+' shares.')"
   ]
  }
 ],
 "metadata": {
  "kernelspec": {
   "display_name": "Python 3",
   "language": "python",
   "name": "python3"
  },
  "language_info": {
   "codemirror_mode": {
    "name": "ipython",
    "version": 3
   },
   "file_extension": ".py",
   "mimetype": "text/x-python",
   "name": "python",
   "nbconvert_exporter": "python",
   "pygments_lexer": "ipython3",
   "version": "3.7.7"
  }
 },
 "nbformat": 4,
 "nbformat_minor": 2
}
